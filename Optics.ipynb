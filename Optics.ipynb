{
  "nbformat": 4,
  "nbformat_minor": 0,
  "metadata": {
    "colab": {
      "name": "Optics.ipynb",
      "provenance": [],
      "collapsed_sections": []
    },
    "kernelspec": {
      "name": "python3",
      "display_name": "Python 3"
    }
  },
  "cells": [
    {
      "cell_type": "code",
      "metadata": {
        "id": "FSRiMSNujKrk",
        "colab_type": "code",
        "colab": {}
      },
      "source": [
        "import numpy as np\n",
        "import matplotlib.pyplot as plt\n",
        "from sklearn.datasets import make_blobs"
      ],
      "execution_count": 0,
      "outputs": []
    },
    {
      "cell_type": "markdown",
      "metadata": {
        "id": "Y3ybsxDDjN9G",
        "colab_type": "text"
      },
      "source": [
        "### `creating the dataset`"
      ]
    },
    {
      "cell_type": "code",
      "metadata": {
        "id": "lpipN6iFjhu4",
        "colab_type": "code",
        "colab": {}
      },
      "source": [
        "\n",
        "X,y = make_blobs(n_samples=30,n_features=2,centers=3,random_state=20)  ### X is the data and y are cluster labels. "
      ],
      "execution_count": 0,
      "outputs": []
    },
    {
      "cell_type": "code",
      "metadata": {
        "id": "hTvBz4dJmpUW",
        "colab_type": "code",
        "outputId": "ccb25d44-6ab8-4c1f-d1bb-b474355b195a",
        "colab": {
          "base_uri": "https://localhost:8080/",
          "height": 265
        }
      },
      "source": [
        "plt.scatter(X[:,0],X[:,1],c=y,cmap ='rainbow')\n",
        "plt.show()"
      ],
      "execution_count": 3,
      "outputs": [
        {
          "output_type": "display_data",
          "data": {
            "image/png": "[encoded data removed]",
            "text/plain": [
              "<Figure size 432x288 with 1 Axes>"
            ]
          },
          "metadata": {
            "tags": []
          }
        }
      ]
    },
    {
      "cell_type": "markdown",
      "metadata": {
        "id": "P8JOXvJQlmCr",
        "colab_type": "text"
      },
      "source": [
        "### findind distance matrix"
      ]
    },
    {
      "cell_type": "code",
      "metadata": {
        "id": "xgoQtddWlqp6",
        "colab_type": "code",
        "colab": {}
      },
      "source": [
        "class Dis(object):\n",
        "  def __init__(self,x,y= None,p=2):\n",
        "    self.x=x\n",
        "    self.y=y\n",
        "    self.p=p\n",
        "  def dis(self):\n",
        "    '''\n",
        "    This function takes two ndarrays as x, y with same no of atributes (may not be of same size) and the parameter p the degree of minkowski distance.\n",
        "\n",
        "    p = 2 Euclidean distance.\n",
        "    p = 1 Manhattan distance\n",
        "    '''\n",
        "    if self.y == None:\n",
        "      self.y = self.x\n",
        "    distance = np.zeros((np.shape(self.x)[0],np.shape(self.y)[0]))\n",
        "    for i in range(np.shape(self.x)[0]):\n",
        "      for j in range(i+1):\n",
        "        distance[i,j] = np.sum((np.abs(self.x[i,:]-self.y[j,:]))**self.p)**(1/self.p)\n",
        "        distance[j,i] = distance[i,j]\n",
        "    return(distance)\n"
      ],
      "execution_count": 0,
      "outputs": []
    },
    {
      "cell_type": "code",
      "metadata": {
        "id": "xkjhIcSsItsD",
        "colab_type": "code",
        "colab": {}
      },
      "source": [
        "d = Dis(X)\n",
        "dsitance_m = d.dis()"
      ],
      "execution_count": 0,
      "outputs": []
    },
    {
      "cell_type": "code",
      "metadata": {
        "id": "UKGO1z0RE-Uk",
        "colab_type": "code",
        "colab": {}
      },
      "source": [
        "def finding_neighbour(i,esp=5):\n",
        "  neigh = np.where(dsitance_m[i,]<esp)[0]\n",
        "  return np.delete(neigh,np.where(neigh == i))\n"
      ],
      "execution_count": 0,
      "outputs": []
    },
    {
      "cell_type": "code",
      "metadata": {
        "id": "CrBO584-ygDR",
        "colab_type": "code",
        "colab": {}
      },
      "source": [
        "def core_dist(i,mpt= 5):\n",
        "    if np.shape(finding_neighbour(i))[0]>= mpt:\n",
        "      nei = np.sort(dsitance_m[i,finding_neighbour(i)])[:mpt]\n",
        "      return np.max(nei)\n",
        "    return 10000"
      ],
      "execution_count": 0,
      "outputs": []
    },
    {
      "cell_type": "code",
      "metadata": {
        "id": "AXESHAlC2SrU",
        "colab_type": "code",
        "colab": {}
      },
      "source": [
        "def rech_dist(i,j,mpt = 5):\n",
        "  if np.shape(finding_neighbour(i))[0]>= mpt:\n",
        "    return max(core_dist(j),dsitance_m[i,j])\n",
        "  return 10000"
      ],
      "execution_count": 0,
      "outputs": []
    },
    {
      "cell_type": "code",
      "metadata": {
        "id": "jGDi4gXo22nq",
        "colab_type": "code",
        "colab": {}
      },
      "source": [
        "def clust(x):\n",
        "  core = np.array([])\n",
        "  rech = np.array([])\n",
        "  for i in range(np.shape(x)[0]):\n",
        "    core = np.append(core,core_dist(i))\n",
        "    for j in range(np.shape(x)[0]):\n",
        "      rech = np.append(rech,rech_dist(j,i))\n",
        "  return core,np.reshape(rech,(np.shape(x)[0],np.shape(x)[0]))"
      ],
      "execution_count": 0,
      "outputs": []
    },
    {
      "cell_type": "code",
      "metadata": {
        "id": "KXY-SPmsC8uw",
        "colab_type": "code",
        "colab": {}
      },
      "source": [
        "core, rech = clust(X)"
      ],
      "execution_count": 0,
      "outputs": []
    },
    {
      "cell_type": "code",
      "metadata": {
        "id": "RU1Jq5GyuwIQ",
        "colab_type": "code",
        "colab": {}
      },
      "source": [
        "def main_calculation(x):\n",
        "  core, rech = clust(x)\n",
        "  status = np.zeros(np.shape(X)[0])\n",
        "  cluster = np.ones(np.shape(X)[0])\n",
        "  clusters = 0\n",
        "  for i in range(np.shape(x)[0]):\n",
        "    if status[i]==0:\n",
        "      cluster[i] = clusters\n",
        "      if core[i] != 10000:\n",
        "        status[i]=1\n",
        "        neibour = finding_neighbour(i)\n",
        "        for pt in neibour:\n",
        "          if core[int(pt)] != 10000 and status[int(pt)] == 0:\n",
        "            cluster[int(pt)] = clusters\n",
        "            status[int(pt)] = 1\n",
        "            rec = rech_dist(int(i),int(pt))\n",
        "            if rech[int(i),int(pt)]>rec:\n",
        "              rech[int(i),int(pt)] = rec\n",
        "            \n",
        "            neibour1 = finding_neighbour(int(pt))\n",
        "            for pt1 in neibour1:\n",
        "              if core[int(pt1)] != 10000 and status[int(pt1)] == 0:\n",
        "                cluster[int(pt1)] = clusters\n",
        "                status[int(pt1)] = 1\n",
        "                rec = rech_dist(int(pt),int(pt1))\n",
        "                if rech[int(pt),int(pt1)]>rec:\n",
        "                  rech[int(pt),int(pt1)] = rec\n",
        "              \n",
        "      clusters = clusters + 1\n",
        "  return cluster"
      ],
      "execution_count": 0,
      "outputs": []
    },
    {
      "cell_type": "code",
      "metadata": {
        "id": "akrkdxUd8PHD",
        "colab_type": "code",
        "outputId": "e7e0d9ee-5811-429e-d2a0-1568251ddafc",
        "colab": {
          "base_uri": "https://localhost:8080/",
          "height": 51
        }
      },
      "source": [
        "result = main_calculation(X)\n",
        "result"
      ],
      "execution_count": 14,
      "outputs": [
        {
          "output_type": "execute_result",
          "data": {
            "text/plain": [
              "array([0., 1., 0., 0., 0., 1., 0., 2., 1., 2., 0., 1., 2., 2., 0., 1., 0.,\n",
              "       0., 1., 2., 1., 2., 2., 2., 2., 1., 1., 2., 0., 1.])"
            ]
          },
          "metadata": {
            "tags": []
          },
          "execution_count": 14
        }
      ]
    },
    {
      "cell_type": "code",
      "metadata": {
        "id": "uk2QcNrVpMQr",
        "colab_type": "code",
        "outputId": "c7237c0c-50db-4bf7-94dc-2f145c921faa",
        "colab": {
          "base_uri": "https://localhost:8080/",
          "height": 265
        }
      },
      "source": [
        "plt.scatter(X[:,0],X[:,1],c=result,cmap ='rainbow')\n",
        "plt.show()"
      ],
      "execution_count": 15,
      "outputs": [
        {
          "output_type": "display_data",
          "data": {
            "image/png": "[encoded data removed]",
            "text/plain": [
              "<Figure size 432x288 with 1 Axes>"
            ]
          },
          "metadata": {
            "tags": []
          }
        }
      ]
    }
  ]
}