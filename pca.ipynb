{
  "nbformat": 4,
  "nbformat_minor": 0,
  "metadata": {
    "colab": {
      "name": "pca.ipynb",
      "provenance": [],
      "collapsed_sections": []
    },
    "kernelspec": {
      "name": "python3",
      "display_name": "Python 3"
    }
  },
  "cells": [
    {
      "cell_type": "code",
      "metadata": {
        "id": "HDB9V3IHYgHp",
        "colab_type": "code",
        "colab": {}
      },
      "source": [
        "import numpy as np\n",
        "import matplotlib.pyplot as plt\n",
        "from sklearn.datasets import make_blobs\n",
        "%matplotlib inline"
      ],
      "execution_count": 0,
      "outputs": []
    },
    {
      "cell_type": "code",
      "metadata": {
        "id": "xiwYlrHOYw-v",
        "colab_type": "code",
        "colab": {}
      },
      "source": [
        "X,y = make_blobs(n_samples=20,n_features=5,centers=2,random_state=19)"
      ],
      "execution_count": 0,
      "outputs": []
    },
    {
      "cell_type": "code",
      "metadata": {
        "id": "P4lWA6_mY-Gx",
        "colab_type": "code",
        "colab": {}
      },
      "source": [
        "class PCA(object):\n",
        "  def __init__(self,x,k):\n",
        "    self.x = x\n",
        "    self.k =k\n",
        "  def mean_calculation(self):\n",
        "    mu = np.mean(self.x,axis=0)\n",
        "    return mu\n",
        "  def std_calculation(self):\n",
        "    std = np.std(self.x,axis=0)\n",
        "    return std\n",
        "  def standarize (self):\n",
        "    z = np.divide(np.subtract(self.x,self.mean_calculation()),self.std_calculation())\n",
        "    return z\n",
        "  def covariance(self):\n",
        "    return (self.standarize().T).dot(self.standarize())\n",
        "  def eigen(self):\n",
        "    eig_value, eig_vec = np.linalg.eig(self.covariance())\n",
        "    return eig_value, eig_vec\n",
        "  def component(self):\n",
        "    eig_value, eig_vec = self.eigen()\n",
        "    return np.flip(eig_vec[np.argsort(eig_value)][-self.k:],0)\n",
        "  def transform(self):\n",
        "    return self.standarize().dot(self.component().T)\n"
      ],
      "execution_count": 0,
      "outputs": []
    },
    {
      "cell_type": "code",
      "metadata": {
        "colab_type": "code",
        "id": "eYqZ3FANks4H",
        "colab": {}
      },
      "source": [
        "p = PCA(X,2)"
      ],
      "execution_count": 0,
      "outputs": []
    },
    {
      "cell_type": "code",
      "metadata": {
        "id": "PxnU7vNxmM2d",
        "colab_type": "code",
        "colab": {
          "base_uri": "https://localhost:8080/",
          "height": 119
        },
        "outputId": "ca84acfb-7cd6-4ad9-8687-72afa15e5322"
      },
      "source": [
        "p.eigen()"
      ],
      "execution_count": 83,
      "outputs": [
        {
          "output_type": "execute_result",
          "data": {
            "text/plain": [
              "(array([70.16822754, 18.6447628 ,  9.61048297,  1.27623117,  0.30029553]),\n",
              " array([[ 0.16373131,  0.9851596 ,  0.04907913,  0.01548932,  0.0019856 ],\n",
              "        [ 0.41198518, -0.11321348,  0.90382696, -0.01591334, -0.01716144],\n",
              "        [-0.51905053,  0.06559938,  0.26510537,  0.38288659,  0.71372282],\n",
              "        [-0.52014231,  0.0692819 ,  0.23990182,  0.42126358, -0.69974003],\n",
              "        [-0.51332133,  0.08683323,  0.2299007 , -0.8218526 , -0.02579081]]))"
            ]
          },
          "metadata": {
            "tags": []
          },
          "execution_count": 83
        }
      ]
    },
    {
      "cell_type": "code",
      "metadata": {
        "id": "ZfrDDyXUmPZq",
        "colab_type": "code",
        "colab": {}
      },
      "source": [
        "new_x = p.transform()"
      ],
      "execution_count": 0,
      "outputs": []
    },
    {
      "cell_type": "code",
      "metadata": {
        "id": "V3YNXNKOkvQE",
        "colab_type": "code",
        "colab": {
          "base_uri": "https://localhost:8080/",
          "height": 265
        },
        "outputId": "0b3ece77-291c-4f02-96c5-a6cbd1e447c7"
      },
      "source": [
        "plt.scatter(new_x[:,0],new_x[:,1],c = y, cmap = 'rainbow')\n",
        "plt.show()"
      ],
      "execution_count": 85,
      "outputs": [
        {
          "output_type": "display_data",
          "data": {
            "image/png": "[encoded data removed]",
            "text/plain": [
              "<Figure size 432x288 with 1 Axes>"
            ]
          },
          "metadata": {
            "tags": []
          }
        }
      ]
    }
  ]
}