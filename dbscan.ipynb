{
  "nbformat": 4,
  "nbformat_minor": 0,
  "metadata": {
    "colab": {
      "name": "dbscan.ipynb",
      "provenance": []
    },
    "kernelspec": {
      "name": "python3",
      "display_name": "Python 3"
    }
  },
  "cells": [
    {
      "cell_type": "code",
      "metadata": {
        "id": "V88V0bBFLtCQ",
        "colab_type": "code",
        "colab": {}
      },
      "source": [
        "import numpy as np\n",
        "import matplotlib.pyplot as plt\n",
        "from sklearn.datasets import make_blobs"
      ],
      "execution_count": 0,
      "outputs": []
    },
    {
      "cell_type": "code",
      "metadata": {
        "id": "9r3_oQOyL09b",
        "colab_type": "code",
        "colab": {}
      },
      "source": [
        "X,y = make_blobs(n_samples=60,n_features=2,centers=3,random_state=20)  ### X is the data and y are cluster labels. "
      ],
      "execution_count": 0,
      "outputs": []
    },
    {
      "cell_type": "code",
      "metadata": {
        "id": "p0wzI__QL6fE",
        "colab_type": "code",
        "colab": {
          "base_uri": "https://localhost:8080/",
          "height": 265
        },
        "outputId": "9189a800-e48b-4034-b572-4a5c43b0a730"
      },
      "source": [
        "plt.scatter(X[:,0],X[:,1],c=y,cmap ='rainbow')\n",
        "plt.show()"
      ],
      "execution_count": 70,
      "outputs": [
        {
          "output_type": "display_data",
          "data": {
            "image/png": "[encoded data removed]",
            "text/plain": [
              "<Figure size 432x288 with 1 Axes>"
            ]
          },
          "metadata": {
            "tags": []
          }
        }
      ]
    },
    {
      "cell_type": "code",
      "metadata": {
        "id": "OebL_oPLMBtu",
        "colab_type": "code",
        "colab": {}
      },
      "source": [
        "class Dbscan(object):\n",
        "  def __init__(self,x,esp,minpt,p=2):\n",
        "    self.x=x\n",
        "    self.esp = esp\n",
        "    self.minpt = minpt\n",
        "    self.p = p\n",
        "  def dis(self):\n",
        "    '''\n",
        "    This function takes two ndarrays as x, y with same no of atributes (may not be of same size) and the parameter p the degree of minkowski distance.\n",
        "\n",
        "    p = 2 Euclidean distance.\n",
        "    p = 1 Manhattan distance\n",
        "    '''\n",
        "    distance = np.zeros((np.shape(self.x)[0],np.shape(self.x)[0]))\n",
        "    for i in range(np.shape(self.x)[0]):\n",
        "      for j in range(i+1):\n",
        "        distance[i,j] = np.sum((np.abs(self.x[i,:]-self.x[j,:]))**self.p)**(1/self.p)\n",
        "        distance[j,i] = distance[i,j]\n",
        "    return(distance)\n",
        "    \n",
        "  def neighbour(self,i):\n",
        "    '''\n",
        "    This function takes the index of a point as input\n",
        "    Returns ndarrays of indices of points inside eps neghbourhood of that point\n",
        "    '''\n",
        "    distance = self.dis()\n",
        "    neigh = np.where(distance[i,]<self.esp)[0]\n",
        "    return neigh\n",
        "  \n",
        "  def cluster(self):\n",
        "    '''\n",
        "    This attribute gives the desired cluster\n",
        "    '''\n",
        "    clust = np.zeros(np.shape(self.x)[0])\n",
        "    clusters = 1\n",
        "    for i in range(int(np.shape(self.x)[0])):\n",
        "      if clust[i] == 0:\n",
        "        neib = self.neighbour(i)\n",
        "        neib = [p for p in neib if clust[p]==0]\n",
        "        if len(neib)>= self.minpt:\n",
        "          for j in neib:\n",
        "            clust[j] = clusters\n",
        "        else:\n",
        "          clust[i] = -1\n",
        "        clusters += 1\n",
        "    return clust\n",
        "        \n",
        "\n"
      ],
      "execution_count": 0,
      "outputs": []
    },
    {
      "cell_type": "code",
      "metadata": {
        "id": "pwUxiKkpMnXZ",
        "colab_type": "code",
        "colab": {
          "base_uri": "https://localhost:8080/",
          "height": 85
        },
        "outputId": "16af34c3-79bd-4ec9-d412-5f6ecc99ba6a"
      },
      "source": [
        "m = Dbscan(X,4,3)\n",
        "result = m.cluster()\n",
        "result"
      ],
      "execution_count": 71,
      "outputs": [
        {
          "output_type": "execute_result",
          "data": {
            "text/plain": [
              "array([1., 2., 1., 1., 3., 3., 2., 3., 1., 2., 1., 2., 2., 3., 1., 2., 1.,\n",
              "       1., 2., 2., 1., 3., 3., 2., 1., 2., 1., 2., 3., 2., 2., 3., 2., 3.,\n",
              "       2., 2., 2., 3., 2., 3., 3., 1., 2., 3., 2., 3., 3., 1., 1., 3., 3.,\n",
              "       3., 3., 1., 1., 1., 1., 3., 1., 1.])"
            ]
          },
          "metadata": {
            "tags": []
          },
          "execution_count": 71
        }
      ]
    },
    {
      "cell_type": "code",
      "metadata": {
        "id": "kHSQRUFnRoQy",
        "colab_type": "code",
        "colab": {
          "base_uri": "https://localhost:8080/",
          "height": 265
        },
        "outputId": "90cb4683-b139-4df5-a179-d2efca5c6938"
      },
      "source": [
        "plt.scatter(X[:,0],X[:,1],c=result,cmap ='rainbow')\n",
        "plt.show()"
      ],
      "execution_count": 72,
      "outputs": [
        {
          "output_type": "display_data",
          "data": {
            "image/png": "[encoded data removed]",
            "text/plain": [
              "<Figure size 432x288 with 1 Axes>"
            ]
          },
          "metadata": {
            "tags": []
          }
        }
      ]
    }
  ]
}